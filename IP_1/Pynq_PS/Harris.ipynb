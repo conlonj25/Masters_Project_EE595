{
 "cells": [
  {
   "cell_type": "code",
   "execution_count": 1,
   "metadata": {},
   "outputs": [],
   "source": [
    "import cv2\n",
    "import numpy as np\n",
    "import time"
   ]
  },
  {
   "cell_type": "code",
   "execution_count": 2,
   "metadata": {},
   "outputs": [
    {
     "name": "stdout",
     "output_type": "stream",
     "text": [
      "Currently running OpenCV 3.4.3\n"
     ]
    }
   ],
   "source": [
    "# check opencv is working\n",
    "print('Currently running OpenCV', cv2.__version__)"
   ]
  },
  {
   "cell_type": "code",
   "execution_count": 3,
   "metadata": {},
   "outputs": [],
   "source": [
    "file_list = ['../Videos/Hallway_002.avi','../Videos/Hallway_003.avi','../Videos/Shop_Corridor.mp4','../Videos/Shop_Front.mp4','../Videos/Student_Services.mp4']\n",
    "title_list = ['Hallway_002','Hallway_003','Shop_Corridor','Shop_Front','Student_Services']"
   ]
  },
  {
   "cell_type": "code",
   "execution_count": 4,
   "metadata": {},
   "outputs": [],
   "source": [
    "# open results file\n",
    "results = open('Harris Results.txt', \"w+\")"
   ]
  },
  {
   "cell_type": "markdown",
   "metadata": {},
   "source": [
    "# Hallway_002\n",
    "---"
   ]
  },
  {
   "cell_type": "code",
   "execution_count": 5,
   "metadata": {},
   "outputs": [
    {
     "data": {
      "text/plain": [
       "1"
      ]
     },
     "execution_count": 5,
     "metadata": {},
     "output_type": "execute_result"
    }
   ],
   "source": [
    "file = file_list[0]\n",
    "title = title_list[0]\n",
    "\n",
    "# open capture\n",
    "cap = cv2.VideoCapture(file)\n",
    "\n",
    "# get length of sequence\n",
    "cap_length = int(cap.get(cv2.CAP_PROP_FRAME_COUNT))\n",
    "cap_width = int(cap.get(cv2.CAP_PROP_FRAME_WIDTH))\n",
    "cap_height = int(cap.get(cv2.CAP_PROP_FRAME_HEIGHT))\n",
    "\n",
    "start = time.time()\n",
    "for frame in range(cap_length):\n",
    "\n",
    "    # read frame\n",
    "    read_ok, frame = cap.read()\n",
    "\n",
    "    # apply harris corner detector\n",
    "    frame = cv2.cvtColor(frame, cv2.COLOR_RGB2GRAY)\n",
    "    frame = np.float32(frame)\n",
    "    frame = cv2.cornerHarris(frame, 2, 3, 0.04)\n",
    "\n",
    "    # display\n",
    "    #cv2.imshow('Video',frame)\n",
    "    # Exit on ESC\n",
    "    #k = cv2.waitKey(1) & 0xff\n",
    "    #if k == 27: break\n",
    "end = time.time()\n",
    "\n",
    "acc_time = end-start\n",
    "fps = cap_length/acc_time\n",
    "\n",
    "results.write(title + '\\n')\n",
    "results.write('==================================================\\n')\n",
    "results.write('Frame Size: ' + str(cap_width) + 'x' + str(cap_height) + '\\n')\n",
    "results.write('Number of Frames: ' + str(cap_length) + '\\n')\n",
    "results.write('Sequence executed in: ' + str(round(acc_time,2)) + ' seconds\\n')\n",
    "results.write('FPS: '+ str(round(fps,2)) + '\\n')\n",
    "results.write('\\n')"
   ]
  },
  {
   "cell_type": "markdown",
   "metadata": {},
   "source": [
    "# Hallway_003\n",
    "---"
   ]
  },
  {
   "cell_type": "code",
   "execution_count": 6,
   "metadata": {},
   "outputs": [
    {
     "data": {
      "text/plain": [
       "1"
      ]
     },
     "execution_count": 6,
     "metadata": {},
     "output_type": "execute_result"
    }
   ],
   "source": [
    "file = file_list[1]\n",
    "title = title_list[1]\n",
    "\n",
    "# open capture\n",
    "cap = cv2.VideoCapture(file)\n",
    "\n",
    "# get length of sequence\n",
    "cap_length = int(cap.get(cv2.CAP_PROP_FRAME_COUNT))\n",
    "cap_width = int(cap.get(cv2.CAP_PROP_FRAME_WIDTH))\n",
    "cap_height = int(cap.get(cv2.CAP_PROP_FRAME_HEIGHT))\n",
    "\n",
    "start = time.time()\n",
    "for frame in range(cap_length):\n",
    "\n",
    "    # read frame\n",
    "    read_ok, frame = cap.read()\n",
    "\n",
    "    # apply harris corner detector\n",
    "    frame = cv2.cvtColor(frame, cv2.COLOR_RGB2GRAY)\n",
    "    frame = np.float32(frame)\n",
    "    frame = cv2.cornerHarris(frame, 2, 3, 0.04)\n",
    "\n",
    "    # display\n",
    "    #cv2.imshow('Video',frame)\n",
    "    # Exit on ESC\n",
    "    #k = cv2.waitKey(1) & 0xff\n",
    "    #if k == 27: break\n",
    "end = time.time()\n",
    "\n",
    "acc_time = end-start\n",
    "fps = cap_length/acc_time\n",
    "\n",
    "results.write(title + '\\n')\n",
    "results.write('==================================================\\n')\n",
    "results.write('Frame Size: ' + str(cap_width) + 'x' + str(cap_height) + '\\n')\n",
    "results.write('Number of Frames: ' + str(cap_length) + '\\n')\n",
    "results.write('Sequence executed in: ' + str(round(acc_time,2)) + ' seconds\\n')\n",
    "results.write('FPS: '+ str(round(fps,2)) + '\\n')\n",
    "results.write('\\n')"
   ]
  },
  {
   "cell_type": "markdown",
   "metadata": {},
   "source": [
    "# Shop_Corridor\n",
    "---"
   ]
  },
  {
   "cell_type": "code",
   "execution_count": 7,
   "metadata": {},
   "outputs": [
    {
     "data": {
      "text/plain": [
       "1"
      ]
     },
     "execution_count": 7,
     "metadata": {},
     "output_type": "execute_result"
    }
   ],
   "source": [
    "file = file_list[2]\n",
    "title = title_list[2]\n",
    "\n",
    "# open capture\n",
    "cap = cv2.VideoCapture(file)\n",
    "\n",
    "# get length of sequence\n",
    "cap_length = int(cap.get(cv2.CAP_PROP_FRAME_COUNT))\n",
    "cap_width = int(cap.get(cv2.CAP_PROP_FRAME_WIDTH))\n",
    "cap_height = int(cap.get(cv2.CAP_PROP_FRAME_HEIGHT))\n",
    "\n",
    "start = time.time()\n",
    "for frame in range(cap_length):\n",
    "\n",
    "    # read frame\n",
    "    read_ok, frame = cap.read()\n",
    "\n",
    "    # apply harris corner detector\n",
    "    frame = cv2.cvtColor(frame, cv2.COLOR_RGB2GRAY)\n",
    "    frame = np.float32(frame)\n",
    "    frame = cv2.cornerHarris(frame, 2, 3, 0.04)\n",
    "\n",
    "    # display\n",
    "    #cv2.imshow('Video',frame)\n",
    "    # Exit on ESC\n",
    "    #k = cv2.waitKey(1) & 0xff\n",
    "    #if k == 27: break\n",
    "end = time.time()\n",
    "\n",
    "acc_time = end-start\n",
    "fps = cap_length/acc_time\n",
    "\n",
    "results.write(title + '\\n')\n",
    "results.write('==================================================\\n')\n",
    "results.write('Frame Size: ' + str(cap_width) + 'x' + str(cap_height) + '\\n')\n",
    "results.write('Number of Frames: ' + str(cap_length) + '\\n')\n",
    "results.write('Sequence executed in: ' + str(round(acc_time,2)) + ' seconds\\n')\n",
    "results.write('FPS: '+ str(round(fps,2)) + '\\n')\n",
    "results.write('\\n')"
   ]
  },
  {
   "cell_type": "markdown",
   "metadata": {},
   "source": [
    "# Shop_Front\n",
    "---"
   ]
  },
  {
   "cell_type": "code",
   "execution_count": 8,
   "metadata": {},
   "outputs": [
    {
     "data": {
      "text/plain": [
       "1"
      ]
     },
     "execution_count": 8,
     "metadata": {},
     "output_type": "execute_result"
    }
   ],
   "source": [
    "file = file_list[3]\n",
    "title = title_list[3]\n",
    "\n",
    "# open capture\n",
    "cap = cv2.VideoCapture(file)\n",
    "\n",
    "# get length of sequence\n",
    "cap_length = int(cap.get(cv2.CAP_PROP_FRAME_COUNT))\n",
    "cap_width = int(cap.get(cv2.CAP_PROP_FRAME_WIDTH))\n",
    "cap_height = int(cap.get(cv2.CAP_PROP_FRAME_HEIGHT))\n",
    "\n",
    "start = time.time()\n",
    "for frame in range(cap_length):\n",
    "\n",
    "    # read frame\n",
    "    read_ok, frame = cap.read()\n",
    "\n",
    "    # apply harris corner detector\n",
    "    frame = cv2.cvtColor(frame, cv2.COLOR_RGB2GRAY)\n",
    "    frame = np.float32(frame)\n",
    "    frame = cv2.cornerHarris(frame, 2, 3, 0.04)\n",
    "\n",
    "    # display\n",
    "    #cv2.imshow('Video',frame)\n",
    "    # Exit on ESC\n",
    "    #k = cv2.waitKey(1) & 0xff\n",
    "    #if k == 27: break\n",
    "end = time.time()\n",
    "\n",
    "acc_time = end-start\n",
    "fps = cap_length/acc_time\n",
    "\n",
    "results.write(title + '\\n')\n",
    "results.write('==================================================\\n')\n",
    "results.write('Frame Size: ' + str(cap_width) + 'x' + str(cap_height) + '\\n')\n",
    "results.write('Number of Frames: ' + str(cap_length) + '\\n')\n",
    "results.write('Sequence executed in: ' + str(round(acc_time,2)) + ' seconds\\n')\n",
    "results.write('FPS: '+ str(round(fps,2)) + '\\n')\n",
    "results.write('\\n')"
   ]
  },
  {
   "cell_type": "markdown",
   "metadata": {},
   "source": [
    "# Student_Services\n",
    "---"
   ]
  },
  {
   "cell_type": "code",
   "execution_count": 9,
   "metadata": {},
   "outputs": [
    {
     "data": {
      "text/plain": [
       "1"
      ]
     },
     "execution_count": 9,
     "metadata": {},
     "output_type": "execute_result"
    }
   ],
   "source": [
    "file = file_list[4]\n",
    "title = title_list[4]\n",
    "\n",
    "# open capture\n",
    "cap = cv2.VideoCapture(file)\n",
    "\n",
    "# get length of sequence\n",
    "cap_length = int(cap.get(cv2.CAP_PROP_FRAME_COUNT))\n",
    "cap_width = int(cap.get(cv2.CAP_PROP_FRAME_WIDTH))\n",
    "cap_height = int(cap.get(cv2.CAP_PROP_FRAME_HEIGHT))\n",
    "\n",
    "start = time.time()\n",
    "for frame in range(cap_length):\n",
    "\n",
    "    # read frame\n",
    "    read_ok, frame = cap.read()\n",
    "\n",
    "    # apply harris corner detector\n",
    "    frame = cv2.cvtColor(frame, cv2.COLOR_RGB2GRAY)\n",
    "    frame = np.float32(frame)\n",
    "    frame = cv2.cornerHarris(frame, 2, 3, 0.04)\n",
    "\n",
    "    # display\n",
    "    #cv2.imshow('Video',frame)\n",
    "    # Exit on ESC\n",
    "    #k = cv2.waitKey(1) & 0xff\n",
    "    #if k == 27: break\n",
    "end = time.time()\n",
    "\n",
    "acc_time = end-start\n",
    "fps = cap_length/acc_time\n",
    "\n",
    "results.write(title + '\\n')\n",
    "results.write('==================================================\\n')\n",
    "results.write('Frame Size: ' + str(cap_width) + 'x' + str(cap_height) + '\\n')\n",
    "results.write('Number of Frames: ' + str(cap_length) + '\\n')\n",
    "results.write('Sequence executed in: ' + str(round(acc_time,2)) + ' seconds\\n')\n",
    "results.write('FPS: '+ str(round(fps,2)) + '\\n')\n",
    "results.write('\\n')"
   ]
  },
  {
   "cell_type": "code",
   "execution_count": 10,
   "metadata": {},
   "outputs": [],
   "source": [
    "results.close()"
   ]
  }
 ],
 "metadata": {
  "kernelspec": {
   "display_name": "Python 3",
   "language": "python",
   "name": "python3"
  },
  "language_info": {
   "codemirror_mode": {
    "name": "ipython",
    "version": 3
   },
   "file_extension": ".py",
   "mimetype": "text/x-python",
   "name": "python",
   "nbconvert_exporter": "python",
   "pygments_lexer": "ipython3",
   "version": "3.6.5"
  }
 },
 "nbformat": 4,
 "nbformat_minor": 4
}
