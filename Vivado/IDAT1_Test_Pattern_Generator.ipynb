{
 "cells": [
  {
   "cell_type": "markdown",
   "metadata": {},
   "source": [
    "# IDAT1 - Test Pattern Generator\n",
    "Based on lab two of Adam Taylors Pynq-Z2 tutorial series for Element14  \n",
    "https://github.com/ATaylorCEngFIET/Element14_PYNQ"
   ]
  },
  {
   "cell_type": "code",
   "execution_count": 12,
   "metadata": {},
   "outputs": [],
   "source": [
    "import time\n",
    "from pynq.overlays.tpd_pynq import tpd_pynqOverlay\n",
    "import numpy as np\n",
    "from pynq import pl\n",
    "from pynq import overlay\n",
    "from pynq.lib.video import *\n",
    "from pynq import Xlnk\n",
    "import cv2\n",
    "import matplotlib.pyplot as plt\n",
    "from mpl_toolkits.axes_grid1 import ImageGrid"
   ]
  },
  {
   "cell_type": "markdown",
   "metadata": {},
   "source": [
    "#### Program FPGA"
   ]
  },
  {
   "cell_type": "code",
   "execution_count": 13,
   "metadata": {},
   "outputs": [],
   "source": [
    "overlay = tpd_pynqOverlay('IDAT1_Test_Pattern_Generator.bit')"
   ]
  },
  {
   "cell_type": "markdown",
   "metadata": {},
   "source": [
    "The following attributes are available on this overlay:  \n",
    "\n",
    "    axi_intc_0           : pynq.overlay.DefaultIP  \n",
    "    axi_vdma_0           : pynq.lib.video.dma.AxiVDMA  \n",
    "    color_convert_0      : pynq.lib.video.pipeline.ColorConverter  \n",
    "    pixel_pack_0         : pynq.lib.video.pipeline.PixelPacker  \n",
    "    v_tpg_0              : pynq.overlay.DefaultIP  \n",
    "    processing_system7_0 : pynq.overlay.DefaultIP  "
   ]
  },
  {
   "cell_type": "markdown",
   "metadata": {},
   "source": [
    "#### Pixel Pack\n",
    "Set pixel pack to expect 24-bit RGB pixels from test pattern generator.  \n",
    "It will package these as 32-bit."
   ]
  },
  {
   "cell_type": "code",
   "execution_count": 14,
   "metadata": {},
   "outputs": [],
   "source": [
    "pixel_in = overlay.pixel_pack_0\n",
    "pixel_in.bits_per_pixel = 24"
   ]
  },
  {
   "cell_type": "markdown",
   "metadata": {},
   "source": [
    "#### Colour Converter\n",
    "Set colour converter to invert colourspace from RGB to BGR. "
   ]
  },
  {
   "cell_type": "code",
   "execution_count": 15,
   "metadata": {},
   "outputs": [],
   "source": [
    "colourspace_in = overlay.color_convert_0\n",
    "rgb2bgr = [0.0, 1.0, 0.0,\n",
    "           1.0, 0.0, 0.0,\n",
    "           0.0, 0.0, 1.0,\n",
    "           0.0, 0.0, 0.0]\n",
    "\n",
    "colourspace_in.colorspace = rgb2bgr"
   ]
  },
  {
   "cell_type": "markdown",
   "metadata": {},
   "source": [
    "#### VDMA\n",
    "Set VDMA attributes so it knows what kind of video to expect.  \n",
    "These should match the test pattern generator attributes in the next step."
   ]
  },
  {
   "cell_type": "code",
   "execution_count": 16,
   "metadata": {},
   "outputs": [],
   "source": [
    "cam_vdma = overlay.axi_vdma_0\n",
    "lines = 512\n",
    "framemode = VideoMode(640, lines, 24)\n",
    "cam_vdma.readchannel.mode = framemode\n",
    "cam_vdma.readchannel.start()"
   ]
  },
  {
   "cell_type": "markdown",
   "metadata": {},
   "source": [
    "#### Test Pattern Generator\n",
    "Set a handful of properties including height, width and pattern by writing directly to registers.  \n",
    "You can find a reference of the exact registers in the product description."
   ]
  },
  {
   "cell_type": "code",
   "execution_count": 17,
   "metadata": {},
   "outputs": [],
   "source": [
    "tpg = overlay.v_tpg_0\n",
    "tpg.write(0x10,512) # height\n",
    "tpg.write(0x18,640) # width\n",
    "tpg.write(0x40,0)\n",
    "tpg.write(0x30,0)\n",
    "tpg.write(0x20,0xB) # pattern\n",
    "tpg.write(0x00,0x81)"
   ]
  },
  {
   "cell_type": "markdown",
   "metadata": {},
   "source": [
    "#### Test 1\n",
    "Pull a frame from the VDMA and display."
   ]
  },
  {
   "cell_type": "code",
   "execution_count": 18,
   "metadata": {},
   "outputs": [
    {
     "data": {
      "image/png": "[encoded data removed]",
      "text/plain": [
       "<matplotlib.figure.Figure at 0xa6d50690>"
      ]
     },
     "metadata": {},
     "output_type": "display_data"
    }
   ],
   "source": [
    "frame_camera = cam_vdma.readchannel.readframe()\n",
    "frame_color = cv2.cvtColor(frame_camera,cv2.COLOR_BGR2RGB)\n",
    "pixels = np.array(frame_color)\n",
    "plt.imshow(pixels)\n",
    "plt.show()"
   ]
  },
  {
   "cell_type": "markdown",
   "metadata": {},
   "source": [
    "#### Test 2\n",
    "Vary the pattern value and pull a frame from the VDMA for each.  \n",
    "Display the results in a grid."
   ]
  },
  {
   "cell_type": "code",
   "execution_count": 23,
   "metadata": {},
   "outputs": [],
   "source": [
    "patterns = []\n",
    "\n",
    "for i in range(16):\n",
    "\n",
    "    tpg.write(0x20,i)\n",
    "    \n",
    "    frame_camera = cam_vdma.readchannel.readframe()\n",
    "    frame_color=cv2.cvtColor(frame_camera,cv2.COLOR_BGR2RGB)\n",
    "    pixels = np.array(frame_color)\n",
    "    \n",
    "    patterns.append(pixels)"
   ]
  },
  {
   "cell_type": "code",
   "execution_count": 24,
   "metadata": {},
   "outputs": [
    {
     "data": {
      "image/png": "[encoded data removed]",
      "text/plain": [
       "<matplotlib.figure.Figure at 0xa49ad690>"
      ]
     },
     "metadata": {},
     "output_type": "display_data"
    }
   ],
   "source": [
    "fig = plt.figure(figsize=(12., 12.))\n",
    "grid = ImageGrid(fig, 111, nrows_ncols=(4, 4), axes_pad=0.5)\n",
    "\n",
    "for ax, pattern in zip(grid,patterns):\n",
    "    ax.imshow(pattern)\n",
    "\n",
    "plt.show()"
   ]
  },
  {
   "cell_type": "markdown",
   "metadata": {},
   "source": [
    "#### Stop VDMA"
   ]
  },
  {
   "cell_type": "code",
   "execution_count": 10,
   "metadata": {},
   "outputs": [],
   "source": [
    "cam_vdma.readchannel.stop()"
   ]
  }
 ],
 "metadata": {
  "kernelspec": {
   "display_name": "Python 3",
   "language": "python",
   "name": "python3"
  },
  "language_info": {
   "codemirror_mode": {
    "name": "ipython",
    "version": 3
   },
   "file_extension": ".py",
   "mimetype": "text/x-python",
   "name": "python",
   "nbconvert_exporter": "python",
   "pygments_lexer": "ipython3",
   "version": "3.6.5"
  }
 },
 "nbformat": 4,
 "nbformat_minor": 4
}
