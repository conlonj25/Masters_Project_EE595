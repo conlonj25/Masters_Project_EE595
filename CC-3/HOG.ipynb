{
 "cells": [
  {
   "cell_type": "code",
   "execution_count": 1,
   "metadata": {},
   "outputs": [],
   "source": [
    "import cv2\n",
    "import time"
   ]
  },
  {
   "cell_type": "code",
   "execution_count": 2,
   "metadata": {},
   "outputs": [
    {
     "name": "stdout",
     "output_type": "stream",
     "text": [
      "Currently running OpenCV 3.4.3\n"
     ]
    }
   ],
   "source": [
    "# check opencv is working\n",
    "print('Currently running OpenCV', cv2.__version__)"
   ]
  },
  {
   "cell_type": "code",
   "execution_count": 3,
   "metadata": {},
   "outputs": [],
   "source": [
    "file_list = ['../Videos/Hallway_002.avi','../Videos/Hallway_003.avi','../Videos/Shop_Corridor.mp4','../Videos/Shop_Front.mp4','../Videos/Student_Services.mp4']\n",
    "title_list = ['Hallway_002','Hallway_003','Shop_Corridor','Shop_Front','Student_Services']"
   ]
  },
  {
   "cell_type": "markdown",
   "metadata": {},
   "source": [
    "# Hallway_002\n",
    "---"
   ]
  },
  {
   "cell_type": "code",
   "execution_count": 10,
   "metadata": {},
   "outputs": [
    {
     "name": "stdout",
     "output_type": "stream",
     "text": [
      "Accumulated Time: 37.325242042541504\n",
      "FPS: 0.26791520838907046\n"
     ]
    }
   ],
   "source": [
    "file = file_list[0]\n",
    "title = title_list[0]\n",
    "\n",
    "# open capture\n",
    "cap = cv2.VideoCapture(file)\n",
    "\n",
    "# get length of sequence\n",
    "cap_length = int(cap.get(cv2.CAP_PROP_FRAME_COUNT))\n",
    "cap_width = int(cap.get(cv2.CAP_PROP_FRAME_WIDTH))\n",
    "cap_height = int(cap.get(cv2.CAP_PROP_FRAME_HEIGHT))\n",
    "num_frames = 10\n",
    "\n",
    "# create detector\n",
    "hog = cv2.HOGDescriptor()\n",
    "hog.setSVMDetector(cv2.HOGDescriptor_getDefaultPeopleDetector())\n",
    "\n",
    "# create tracker\n",
    "tracker = cv2.TrackerMedianFlow_create()\n",
    "\n",
    "start = time.time()\n",
    "\n",
    "for _ in range(num_frames):\n",
    "    \n",
    "    # read frame\n",
    "    read_ok, frame = cap.read()\n",
    "    \n",
    "    if (_%10==0):\n",
    "        # apply detector\n",
    "        (rects, weights) = hog.detectMultiScale(frame, winStride=(4, 4), padding=(8, 8), scale=1.05)\n",
    "    else:\n",
    "        # update tracker\n",
    "        retval, rect = tracker.update(frame)\n",
    "    \n",
    "    \n",
    "end = time.time()\n",
    "\n",
    "acc_time = end-start\n",
    "fps = num_frames/acc_time\n",
    "\n",
    "print('Accumulated Time:', acc_time)\n",
    "print('FPS:', fps)"
   ]
  },
  {
   "cell_type": "markdown",
   "metadata": {},
   "source": [
    "# Hallway_003\n",
    "---"
   ]
  },
  {
   "cell_type": "code",
   "execution_count": 11,
   "metadata": {},
   "outputs": [
    {
     "name": "stdout",
     "output_type": "stream",
     "text": [
      "Accumulated Time: 24.186733961105347\n",
      "FPS: 0.4134497868162351\n"
     ]
    }
   ],
   "source": [
    "file = file_list[1]\n",
    "title = title_list[1]\n",
    "\n",
    "# open capture\n",
    "cap = cv2.VideoCapture(file)\n",
    "\n",
    "# get length of sequence\n",
    "cap_length = int(cap.get(cv2.CAP_PROP_FRAME_COUNT))\n",
    "cap_width = int(cap.get(cv2.CAP_PROP_FRAME_WIDTH))\n",
    "cap_height = int(cap.get(cv2.CAP_PROP_FRAME_HEIGHT))\n",
    "num_frames = 10\n",
    "\n",
    "# create detector\n",
    "hog = cv2.HOGDescriptor()\n",
    "hog.setSVMDetector(cv2.HOGDescriptor_getDefaultPeopleDetector())\n",
    "\n",
    "# create tracker\n",
    "tracker = cv2.TrackerMedianFlow_create()\n",
    "\n",
    "start = time.time()\n",
    "\n",
    "for _ in range(num_frames):\n",
    "    \n",
    "    # read frame\n",
    "    read_ok, frame = cap.read()\n",
    "    \n",
    "    if (_%10==0):\n",
    "        # apply detector\n",
    "        (rects, weights) = hog.detectMultiScale(frame, winStride=(4, 4), padding=(8, 8), scale=1.05)\n",
    "    else:\n",
    "        # update tracker\n",
    "        retval, rect = tracker.update(frame)\n",
    "    \n",
    "    \n",
    "end = time.time()\n",
    "\n",
    "acc_time = end-start\n",
    "fps = num_frames/acc_time\n",
    "\n",
    "print('Accumulated Time:', acc_time)\n",
    "print('FPS:', fps)"
   ]
  },
  {
   "cell_type": "markdown",
   "metadata": {},
   "source": [
    "# Shop_Corridor\n",
    "---"
   ]
  },
  {
   "cell_type": "code",
   "execution_count": 15,
   "metadata": {},
   "outputs": [
    {
     "name": "stdout",
     "output_type": "stream",
     "text": [
      "Accumulated Time: 82.21798658370972\n",
      "FPS: 1.216278872241485\n"
     ]
    }
   ],
   "source": [
    "file = file_list[2]\n",
    "title = title_list[2]\n",
    "\n",
    "# open capture\n",
    "cap = cv2.VideoCapture(file)\n",
    "\n",
    "# get length of sequence\n",
    "cap_length = int(cap.get(cv2.CAP_PROP_FRAME_COUNT))\n",
    "cap_width = int(cap.get(cv2.CAP_PROP_FRAME_WIDTH))\n",
    "cap_height = int(cap.get(cv2.CAP_PROP_FRAME_HEIGHT))\n",
    "num_frames = 100\n",
    "\n",
    "# create detector\n",
    "hog = cv2.HOGDescriptor()\n",
    "hog.setSVMDetector(cv2.HOGDescriptor_getDefaultPeopleDetector())\n",
    "\n",
    "# create tracker\n",
    "tracker = cv2.TrackerMedianFlow_create()\n",
    "\n",
    "start = time.time()\n",
    "\n",
    "for _ in range(num_frames):\n",
    "    \n",
    "    # read frame\n",
    "    read_ok, frame = cap.read()\n",
    "    \n",
    "    if (_%10==0):\n",
    "        # apply detector\n",
    "        (rects, weights) = hog.detectMultiScale(frame, winStride=(4, 4), padding=(8, 8), scale=1.05)\n",
    "    else:\n",
    "        # update tracker\n",
    "        retval, rect = tracker.update(frame)\n",
    "    \n",
    "    \n",
    "end = time.time()\n",
    "\n",
    "acc_time = end-start\n",
    "fps = num_frames/acc_time\n",
    "\n",
    "print('Accumulated Time:', acc_time)\n",
    "print('FPS:', fps)"
   ]
  },
  {
   "cell_type": "markdown",
   "metadata": {},
   "source": [
    "# Shop_Front\n",
    "---"
   ]
  },
  {
   "cell_type": "code",
   "execution_count": 17,
   "metadata": {},
   "outputs": [
    {
     "name": "stdout",
     "output_type": "stream",
     "text": [
      "Accumulated Time: 70.66921591758728\n",
      "FPS: 1.4150432929186247\n"
     ]
    }
   ],
   "source": [
    "file = file_list[3]\n",
    "title = title_list[3]\n",
    "\n",
    "# open capture\n",
    "cap = cv2.VideoCapture(file)\n",
    "\n",
    "# get length of sequence\n",
    "cap_length = int(cap.get(cv2.CAP_PROP_FRAME_COUNT))\n",
    "cap_width = int(cap.get(cv2.CAP_PROP_FRAME_WIDTH))\n",
    "cap_height = int(cap.get(cv2.CAP_PROP_FRAME_HEIGHT))\n",
    "num_frames = 100\n",
    "\n",
    "# create detector\n",
    "hog = cv2.HOGDescriptor()\n",
    "hog.setSVMDetector(cv2.HOGDescriptor_getDefaultPeopleDetector())\n",
    "\n",
    "# create tracker\n",
    "tracker = cv2.TrackerMedianFlow_create()\n",
    "\n",
    "start = time.time()\n",
    "\n",
    "for _ in range(num_frames):\n",
    "    \n",
    "    # read frame\n",
    "    read_ok, frame = cap.read()\n",
    "    \n",
    "    if (_%10==0):\n",
    "        # apply detector\n",
    "        (rects, weights) = hog.detectMultiScale(frame, winStride=(4, 4), padding=(8, 8), scale=1.05)\n",
    "    else:\n",
    "        # update tracker\n",
    "        retval, rect = tracker.update(frame)\n",
    "    \n",
    "    \n",
    "end = time.time()\n",
    "\n",
    "acc_time = end-start\n",
    "fps = num_frames/acc_time\n",
    "\n",
    "print('Accumulated Time:', acc_time)\n",
    "print('FPS:', fps)"
   ]
  },
  {
   "cell_type": "markdown",
   "metadata": {},
   "source": [
    "# Student_Services\n",
    "---"
   ]
  },
  {
   "cell_type": "code",
   "execution_count": 14,
   "metadata": {},
   "outputs": [
    {
     "name": "stdout",
     "output_type": "stream",
     "text": [
      "Accumulated Time: 77.92044305801392\n",
      "FPS: 0.12833602592011348\n"
     ]
    }
   ],
   "source": [
    "file = file_list[4]\n",
    "title = title_list[4]\n",
    "\n",
    "# open capture\n",
    "cap = cv2.VideoCapture(file)\n",
    "\n",
    "# get length of sequence\n",
    "cap_length = int(cap.get(cv2.CAP_PROP_FRAME_COUNT))\n",
    "cap_width = int(cap.get(cv2.CAP_PROP_FRAME_WIDTH))\n",
    "cap_height = int(cap.get(cv2.CAP_PROP_FRAME_HEIGHT))\n",
    "num_frames = 10\n",
    "\n",
    "# create detector\n",
    "hog = cv2.HOGDescriptor()\n",
    "hog.setSVMDetector(cv2.HOGDescriptor_getDefaultPeopleDetector())\n",
    "\n",
    "# create tracker\n",
    "tracker = cv2.TrackerMedianFlow_create()\n",
    "\n",
    "start = time.time()\n",
    "\n",
    "for _ in range(num_frames):\n",
    "    \n",
    "    # read frame\n",
    "    read_ok, frame = cap.read()\n",
    "    \n",
    "    if (_%10==0):\n",
    "        # apply detector\n",
    "        (rects, weights) = hog.detectMultiScale(frame, winStride=(4, 4), padding=(8, 8), scale=1.05)\n",
    "    else:\n",
    "        # update tracker\n",
    "        retval, rect = tracker.update(frame)\n",
    "    \n",
    "    \n",
    "end = time.time()\n",
    "\n",
    "acc_time = end-start\n",
    "fps = num_frames/acc_time\n",
    "\n",
    "print('Accumulated Time:', acc_time)\n",
    "print('FPS:', fps)"
   ]
  },
  {
   "cell_type": "code",
   "execution_count": null,
   "metadata": {},
   "outputs": [],
   "source": [
    "results.close()"
   ]
  }
 ],
 "metadata": {
  "kernelspec": {
   "display_name": "Python 3",
   "language": "python",
   "name": "python3"
  },
  "language_info": {
   "codemirror_mode": {
    "name": "ipython",
    "version": 3
   },
   "file_extension": ".py",
   "mimetype": "text/x-python",
   "name": "python",
   "nbconvert_exporter": "python",
   "pygments_lexer": "ipython3",
   "version": "3.6.5"
  }
 },
 "nbformat": 4,
 "nbformat_minor": 4
}
