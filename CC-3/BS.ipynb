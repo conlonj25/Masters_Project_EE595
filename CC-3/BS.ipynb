{
 "cells": [
  {
   "cell_type": "code",
   "execution_count": 17,
   "metadata": {},
   "outputs": [],
   "source": [
    "import cv2\n",
    "import time"
   ]
  },
  {
   "cell_type": "code",
   "execution_count": 18,
   "metadata": {},
   "outputs": [
    {
     "name": "stdout",
     "output_type": "stream",
     "text": [
      "Currently running OpenCV 3.4.3\n"
     ]
    }
   ],
   "source": [
    "# check opencv is working\n",
    "print('Currently running OpenCV', cv2.__version__)"
   ]
  },
  {
   "cell_type": "code",
   "execution_count": 19,
   "metadata": {},
   "outputs": [],
   "source": [
    "file_list = ['../Videos/Hallway_002.avi','../Videos/Hallway_003.avi','../Videos/Shop_Corridor.mp4','../Videos/Shop_Front.mp4','../Videos/Student_Services.mp4']\n",
    "title_list = ['Hallway_002','Hallway_003','Shop_Corridor','Shop_Front','Student_Services']"
   ]
  },
  {
   "cell_type": "markdown",
   "metadata": {},
   "source": [
    "# Hallway_002\n",
    "---"
   ]
  },
  {
   "cell_type": "code",
   "execution_count": 29,
   "metadata": {},
   "outputs": [
    {
     "name": "stdout",
     "output_type": "stream",
     "text": [
      "Accumulated Time: 43.33598804473877\n",
      "FPS: 2.30755094118918\n"
     ]
    }
   ],
   "source": [
    "file = file_list[0]\n",
    "title = title_list[0]\n",
    "\n",
    "# open capture\n",
    "cap = cv2.VideoCapture(file)\n",
    "\n",
    "# get length of sequence\n",
    "cap_length = int(cap.get(cv2.CAP_PROP_FRAME_COUNT))\n",
    "cap_width = int(cap.get(cv2.CAP_PROP_FRAME_WIDTH))\n",
    "cap_height = int(cap.get(cv2.CAP_PROP_FRAME_HEIGHT))\n",
    "num_frames = 100\n",
    "\n",
    "# initialize detector\n",
    "detector = cv2.createBackgroundSubtractorMOG2(history=100, varThreshold=40)\n",
    "\n",
    "start = time.time()\n",
    "\n",
    "for _ in range(num_frames):\n",
    "    \n",
    "    # read frame\n",
    "    read_ok, frame = cap.read()\n",
    "    \n",
    "    # apply detector\n",
    "    gray = detector.apply(frame)\n",
    "    _, bw = cv2.threshold(gray, 254, 255, cv2.THRESH_BINARY)\n",
    "    \n",
    "    # find contours\n",
    "    _, contours, _ = cv2.findContours(bw, cv2.RETR_TREE, cv2.CHAIN_APPROX_SIMPLE)\n",
    "    \n",
    "end = time.time()\n",
    "\n",
    "acc_time = end-start\n",
    "fps = num_frames/acc_time\n",
    "\n",
    "print('Accumulated Time:', acc_time)\n",
    "print('FPS:', fps)"
   ]
  },
  {
   "cell_type": "markdown",
   "metadata": {},
   "source": [
    "# Hallway_003\n",
    "---"
   ]
  },
  {
   "cell_type": "code",
   "execution_count": 30,
   "metadata": {},
   "outputs": [
    {
     "name": "stdout",
     "output_type": "stream",
     "text": [
      "Accumulated Time: 34.26171875\n",
      "FPS: 2.9187093831946185\n"
     ]
    }
   ],
   "source": [
    "file = file_list[1]\n",
    "title = title_list[1]\n",
    "\n",
    "# open capture\n",
    "cap = cv2.VideoCapture(file)\n",
    "\n",
    "# get length of sequence\n",
    "cap_length = int(cap.get(cv2.CAP_PROP_FRAME_COUNT))\n",
    "cap_width = int(cap.get(cv2.CAP_PROP_FRAME_WIDTH))\n",
    "cap_height = int(cap.get(cv2.CAP_PROP_FRAME_HEIGHT))\n",
    "num_frames = 100\n",
    "\n",
    "# initialize detector\n",
    "detector = cv2.createBackgroundSubtractorMOG2(history=100, varThreshold=40)\n",
    "\n",
    "start = time.time()\n",
    "\n",
    "for _ in range(num_frames):\n",
    "    \n",
    "    # read frame\n",
    "    read_ok, frame = cap.read()\n",
    "    \n",
    "    # apply detector\n",
    "    gray = detector.apply(frame)\n",
    "    _, bw = cv2.threshold(gray, 254, 255, cv2.THRESH_BINARY)\n",
    "    \n",
    "    # find contours\n",
    "    _, contours, _ = cv2.findContours(bw, cv2.RETR_TREE, cv2.CHAIN_APPROX_SIMPLE)\n",
    "    \n",
    "end = time.time()\n",
    "\n",
    "acc_time = end-start\n",
    "fps = num_frames/acc_time\n",
    "\n",
    "print('Accumulated Time:', acc_time)\n",
    "print('FPS:', fps)"
   ]
  },
  {
   "cell_type": "markdown",
   "metadata": {},
   "source": [
    "# Shop_Corridor\n",
    "---"
   ]
  },
  {
   "cell_type": "code",
   "execution_count": 34,
   "metadata": {},
   "outputs": [
    {
     "name": "stdout",
     "output_type": "stream",
     "text": [
      "Accumulated Time: 311.85499453544617\n",
      "FPS: 7.570826317907963\n"
     ]
    }
   ],
   "source": [
    "file = file_list[2]\n",
    "title = title_list[2]\n",
    "\n",
    "# open capture\n",
    "cap = cv2.VideoCapture(file)\n",
    "\n",
    "# get length of sequence\n",
    "cap_length = int(cap.get(cv2.CAP_PROP_FRAME_COUNT))\n",
    "cap_width = int(cap.get(cv2.CAP_PROP_FRAME_WIDTH))\n",
    "cap_height = int(cap.get(cv2.CAP_PROP_FRAME_HEIGHT))\n",
    "num_frames = cap_length\n",
    "\n",
    "# initialize detector\n",
    "detector = cv2.createBackgroundSubtractorMOG2(history=100, varThreshold=40)\n",
    "\n",
    "start = time.time()\n",
    "\n",
    "for _ in range(num_frames):\n",
    "    \n",
    "    # read frame\n",
    "    read_ok, frame = cap.read()\n",
    "    \n",
    "    # apply detector\n",
    "    gray = detector.apply(frame)\n",
    "    _, bw = cv2.threshold(gray, 254, 255, cv2.THRESH_BINARY)\n",
    "    \n",
    "    # find contours\n",
    "    _, contours, _ = cv2.findContours(bw, cv2.RETR_TREE, cv2.CHAIN_APPROX_SIMPLE)\n",
    "    \n",
    "end = time.time()\n",
    "\n",
    "acc_time = end-start\n",
    "fps = num_frames/acc_time\n",
    "\n",
    "print('Accumulated Time:', acc_time)\n",
    "print('FPS:', fps)"
   ]
  },
  {
   "cell_type": "markdown",
   "metadata": {},
   "source": [
    "# Shop_Front\n",
    "---"
   ]
  },
  {
   "cell_type": "code",
   "execution_count": 35,
   "metadata": {},
   "outputs": [
    {
     "name": "stdout",
     "output_type": "stream",
     "text": [
      "Accumulated Time: 252.9717354774475\n",
      "FPS: 9.333058476054466\n"
     ]
    }
   ],
   "source": [
    "file = file_list[3]\n",
    "title = title_list[3]\n",
    "\n",
    "# open capture\n",
    "cap = cv2.VideoCapture(file)\n",
    "\n",
    "# get length of sequence\n",
    "cap_length = int(cap.get(cv2.CAP_PROP_FRAME_COUNT))\n",
    "cap_width = int(cap.get(cv2.CAP_PROP_FRAME_WIDTH))\n",
    "cap_height = int(cap.get(cv2.CAP_PROP_FRAME_HEIGHT))\n",
    "num_frames = cap_length\n",
    "\n",
    "# initialize detector\n",
    "detector = cv2.createBackgroundSubtractorMOG2(history=100, varThreshold=40)\n",
    "\n",
    "start = time.time()\n",
    "\n",
    "for _ in range(num_frames):\n",
    "    \n",
    "    # read frame\n",
    "    read_ok, frame = cap.read()\n",
    "    \n",
    "    # apply detector\n",
    "    gray = detector.apply(frame)\n",
    "    _, bw = cv2.threshold(gray, 254, 255, cv2.THRESH_BINARY)\n",
    "    \n",
    "    # find contours\n",
    "    _, contours, _ = cv2.findContours(bw, cv2.RETR_TREE, cv2.CHAIN_APPROX_SIMPLE)\n",
    "    \n",
    "end = time.time()\n",
    "\n",
    "acc_time = end-start\n",
    "fps = num_frames/acc_time\n",
    "\n",
    "print('Accumulated Time:', acc_time)\n",
    "print('FPS:', fps)"
   ]
  },
  {
   "cell_type": "markdown",
   "metadata": {},
   "source": [
    "# Student_Services\n",
    "---"
   ]
  },
  {
   "cell_type": "code",
   "execution_count": 37,
   "metadata": {},
   "outputs": [
    {
     "name": "stdout",
     "output_type": "stream",
     "text": [
      "Accumulated Time: 83.28089928627014\n",
      "FPS: 1.2007555256609268\n"
     ]
    }
   ],
   "source": [
    "file = file_list[4]\n",
    "title = title_list[4]\n",
    "\n",
    "# open capture\n",
    "cap = cv2.VideoCapture(file)\n",
    "\n",
    "# get length of sequence\n",
    "cap_length = int(cap.get(cv2.CAP_PROP_FRAME_COUNT))\n",
    "cap_width = int(cap.get(cv2.CAP_PROP_FRAME_WIDTH))\n",
    "cap_height = int(cap.get(cv2.CAP_PROP_FRAME_HEIGHT))\n",
    "num_frames = 100\n",
    "\n",
    "# initialize detector\n",
    "detector = cv2.createBackgroundSubtractorMOG2(history=100, varThreshold=40)\n",
    "\n",
    "start = time.time()\n",
    "\n",
    "for _ in range(num_frames):\n",
    "    \n",
    "    # read frame\n",
    "    read_ok, frame = cap.read()\n",
    "    \n",
    "    # apply detector\n",
    "    gray = detector.apply(frame)\n",
    "    _, bw = cv2.threshold(gray, 254, 255, cv2.THRESH_BINARY)\n",
    "    \n",
    "    # find contours\n",
    "    _, contours, _ = cv2.findContours(bw, cv2.RETR_TREE, cv2.CHAIN_APPROX_SIMPLE)\n",
    "    \n",
    "end = time.time()\n",
    "\n",
    "acc_time = end-start\n",
    "fps = num_frames/acc_time\n",
    "\n",
    "print('Accumulated Time:', acc_time)\n",
    "print('FPS:', fps)"
   ]
  },
  {
   "cell_type": "code",
   "execution_count": null,
   "metadata": {},
   "outputs": [],
   "source": [
    "results.close()"
   ]
  }
 ],
 "metadata": {
  "kernelspec": {
   "display_name": "Python 3",
   "language": "python",
   "name": "python3"
  },
  "language_info": {
   "codemirror_mode": {
    "name": "ipython",
    "version": 3
   },
   "file_extension": ".py",
   "mimetype": "text/x-python",
   "name": "python",
   "nbconvert_exporter": "python",
   "pygments_lexer": "ipython3",
   "version": "3.6.5"
  }
 },
 "nbformat": 4,
 "nbformat_minor": 4
}
