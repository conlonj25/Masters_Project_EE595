{
 "cells": [
  {
   "cell_type": "code",
   "execution_count": 23,
   "metadata": {},
   "outputs": [],
   "source": [
    "import cv2\n",
    "import numpy as np\n",
    "import time\n",
    "from Person import Person"
   ]
  },
  {
   "cell_type": "code",
   "execution_count": 2,
   "metadata": {},
   "outputs": [
    {
     "name": "stdout",
     "output_type": "stream",
     "text": [
      "Currently running OpenCV 3.4.3\n"
     ]
    }
   ],
   "source": [
    "# check opencv is working\n",
    "print('Currently running OpenCV', cv2.__version__)"
   ]
  },
  {
   "cell_type": "code",
   "execution_count": 3,
   "metadata": {},
   "outputs": [],
   "source": [
    "file_list = ['../Videos/Hallway_002.avi','../Videos/Hallway_003.avi','../Videos/Shop_Corridor.mp4','../Videos/Shop_Front.mp4','../Videos/Student_Services.mp4']\n",
    "title_list = ['Hallway_002','Hallway_003','Shop_Corridor','Shop_Front','Student_Services']"
   ]
  },
  {
   "cell_type": "code",
   "execution_count": 21,
   "metadata": {},
   "outputs": [],
   "source": [
    "# open results file\n",
    "results = open('BS Results.txt', \"w+\")"
   ]
  },
  {
   "cell_type": "markdown",
   "metadata": {},
   "source": [
    "# Hallway_002\n",
    "---"
   ]
  },
  {
   "cell_type": "code",
   "execution_count": 24,
   "metadata": {},
   "outputs": [
    {
     "ename": "KeyboardInterrupt",
     "evalue": "",
     "output_type": "error",
     "traceback": [
      "\u001b[0;31m---------------------------------------------------------------------------\u001b[0m",
      "\u001b[0;31mKeyboardInterrupt\u001b[0m                         Traceback (most recent call last)",
      "\u001b[0;32m<ipython-input-24-77adbc492dfc>\u001b[0m in \u001b[0;36m<module>\u001b[0;34m()\u001b[0m\n\u001b[1;32m     32\u001b[0m     \u001b[0mdetected_boxes\u001b[0m \u001b[0;34m=\u001b[0m \u001b[0;34m[\u001b[0m\u001b[0;34m]\u001b[0m\u001b[0;34m\u001b[0m\u001b[0m\n\u001b[1;32m     33\u001b[0m     \u001b[0;32mfor\u001b[0m \u001b[0mcnt\u001b[0m \u001b[0;32min\u001b[0m \u001b[0mcontours\u001b[0m\u001b[0;34m:\u001b[0m\u001b[0;34m\u001b[0m\u001b[0m\n\u001b[0;32m---> 34\u001b[0;31m         \u001b[0marea\u001b[0m \u001b[0;34m=\u001b[0m \u001b[0mcv2\u001b[0m\u001b[0;34m.\u001b[0m\u001b[0mcontourArea\u001b[0m\u001b[0;34m(\u001b[0m\u001b[0mcnt\u001b[0m\u001b[0;34m)\u001b[0m\u001b[0;34m\u001b[0m\u001b[0m\n\u001b[0m\u001b[1;32m     35\u001b[0m         \u001b[0;32mif\u001b[0m \u001b[0marea\u001b[0m \u001b[0;34m>\u001b[0m \u001b[0;36m120\u001b[0m\u001b[0;34m:\u001b[0m\u001b[0;34m\u001b[0m\u001b[0m\n\u001b[1;32m     36\u001b[0m             \u001b[0mx\u001b[0m\u001b[0;34m,\u001b[0m \u001b[0my\u001b[0m\u001b[0;34m,\u001b[0m \u001b[0mw\u001b[0m\u001b[0;34m,\u001b[0m \u001b[0mh\u001b[0m \u001b[0;34m=\u001b[0m \u001b[0mcv2\u001b[0m\u001b[0;34m.\u001b[0m\u001b[0mboundingRect\u001b[0m\u001b[0;34m(\u001b[0m\u001b[0mcnt\u001b[0m\u001b[0;34m)\u001b[0m\u001b[0;34m\u001b[0m\u001b[0m\n",
      "\u001b[0;31mKeyboardInterrupt\u001b[0m: "
     ]
    }
   ],
   "source": [
    "file = file_list[0]\n",
    "title = title_list[0]\n",
    "\n",
    "# open capture\n",
    "cap = cv2.VideoCapture(file)\n",
    "\n",
    "# get length of sequence\n",
    "cap_length = int(cap.get(cv2.CAP_PROP_FRAME_COUNT))\n",
    "cap_width = int(cap.get(cv2.CAP_PROP_FRAME_WIDTH))\n",
    "cap_height = int(cap.get(cv2.CAP_PROP_FRAME_HEIGHT))\n",
    "\n",
    "# initialize detector\n",
    "detector = cv2.createBackgroundSubtractorMOG2(history=100, varThreshold=40)\n",
    "\n",
    "# people detections\n",
    "people = []\n",
    "\n",
    "start = time.time()\n",
    "for _ in range(cap_length):\n",
    "    \n",
    "    # read frame\n",
    "    read_ok, frame = cap.read()\n",
    "    \n",
    "    # apply detector\n",
    "    gray = detector.apply(frame)\n",
    "    _, bw = cv2.threshold(gray, 254, 255, cv2.THRESH_BINARY)\n",
    "    \n",
    "    # find contours\n",
    "    _, contours, _ = cv2.findContours(bw, cv2.RETR_TREE, cv2.CHAIN_APPROX_SIMPLE)\n",
    "    \n",
    "    # turn large contours into a list of bounding boxes\n",
    "    detected_boxes = []\n",
    "    for cnt in contours:\n",
    "        area = cv2.contourArea(cnt)\n",
    "        if area > 120:\n",
    "            x, y, w, h = cv2.boundingRect(cnt)\n",
    "            detected_boxes.append([x, y, w, h])\n",
    "    \n",
    "    # turn boxes into centroids\n",
    "    detected_centroids = []\n",
    "    for box in detected_boxes:\n",
    "        x, y, w, h = box\n",
    "        centroid = ((x+x+w)//2, (y+y+h)//2)\n",
    "        detected_centroids.append(centroid)\n",
    "    \n",
    "    # loop through people and update\n",
    "    for person in people:\n",
    "        for centroid in detected_centroids:\n",
    "            if person.compare(centroid):\n",
    "                person.update(centroid)\n",
    "            else:\n",
    "                person.update(None)\n",
    "    \n",
    "    # loop through centroids and add new people\n",
    "    for centroid in detected_centroids:\n",
    "        match = False\n",
    "        for person in people:\n",
    "            if person.compare(centroid):\n",
    "                match = True\n",
    "        if match==False:\n",
    "            people.append(Person(centroid, 20))\n",
    "    \n",
    "    # Prune expired people detections\n",
    "    for person in people:\n",
    "        if not person.isValid():\n",
    "            people.remove(person)\n",
    "    \n",
    "    # convert back to 3-channel\n",
    "    #gray = cv2.cvtColor(gray,cv2.COLOR_GRAY2RGB)\n",
    "    #bw = cv2.cvtColor(bw,cv2.COLOR_GRAY2RGB)\n",
    "    \n",
    "    # Draw on frame\n",
    "    #cv2.putText(bw, 'FPS: ' + str(fps), (50,50), cv2.FONT_HERSHEY_SIMPLEX, 1, (0, 255, 0), 1, cv2.LINE_AA)\n",
    "    #cv2.putText(bw, 'People: ' + str(len(people)), (50,150), cv2.FONT_HERSHEY_SIMPLEX, 1, (0, 255, 0), 1, cv2.LINE_AA)\n",
    "    #for person in people:\n",
    "        #for point in person.path:\n",
    "            #cv2.circle(bw,point, 2, (0,255,0), -1)\n",
    "    \n",
    "end = time.time()\n",
    "\n",
    "acc_time = end-start\n",
    "fps = cap_length/acc_time\n",
    "\n",
    "results.write(title + '\\n')\n",
    "results.write('==================================================\\n')\n",
    "results.write('Frame Size: ' + str(cap_width) + 'x' + str(cap_height) + '\\n')\n",
    "results.write('Number of Frames: ' + str(cap_length) + '\\n')\n",
    "results.write('Sequence executed in: ' + str(round(acc_time,2)) + ' seconds\\n')\n",
    "results.write('FPS: '+ str(round(fps,2)) + '\\n')\n",
    "results.write('\\n')"
   ]
  },
  {
   "cell_type": "code",
   "execution_count": 15,
   "metadata": {},
   "outputs": [],
   "source": [
    "results.close()"
   ]
  }
 ],
 "metadata": {
  "kernelspec": {
   "display_name": "Python 3",
   "language": "python",
   "name": "python3"
  },
  "language_info": {
   "codemirror_mode": {
    "name": "ipython",
    "version": 3
   },
   "file_extension": ".py",
   "mimetype": "text/x-python",
   "name": "python",
   "nbconvert_exporter": "python",
   "pygments_lexer": "ipython3",
   "version": "3.6.5"
  }
 },
 "nbformat": 4,
 "nbformat_minor": 4
}
